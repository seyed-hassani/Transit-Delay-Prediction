{
 "cells": [
  {
   "cell_type": "markdown",
   "id": "a869a65f",
   "metadata": {},
   "source": [
    "# 📊 Transit Delay Model Exploration\n",
    "This notebook loads the trained model and explores feature importance using SHAP."
   ]
  },
  {
   "cell_type": "code",
   "execution_count": null,
   "id": "6ed988bb",
   "metadata": {},
   "outputs": [],
   "source": [
    "import pandas as pd\n",
    "import joblib\n",
    "import shap\n",
    "import matplotlib.pyplot as plt\n",
    "\n",
    "# Load dataset\n",
    "df = pd.read_csv(\"../data/transit_data.csv\")\n",
    "\n",
    "# Select features\n",
    "features = ['gps_speed', 'route_id', 'weather_code', 'hour']\n",
    "X = df[features]\n",
    "\n",
    "# Load model\n",
    "model = joblib.load(\"../models/model.pkl\")"
   ]
  },
  {
   "cell_type": "code",
   "execution_count": null,
   "id": "baafce3b",
   "metadata": {},
   "outputs": [],
   "source": [
    "# Create SHAP explainer and compute values\n",
    "explainer = shap.Explainer(model, X)\n",
    "shap_values = explainer(X)"
   ]
  },
  {
   "cell_type": "code",
   "execution_count": null,
   "id": "f7183b4a",
   "metadata": {},
   "outputs": [],
   "source": [
    "# Plot SHAP summary and save\n",
    "plt.figure()\n",
    "shap.summary_plot(shap_values, X, show=False)\n",
    "plt.savefig(\"../figures/shap_plot.png\", bbox_inches=\"tight\")\n",
    "print(\"📸 SHAP plot saved to figures/shap_plot.png\")"
   ]
  }
 ],
 "metadata": {},
 "nbformat": 4,
 "nbformat_minor": 5
}

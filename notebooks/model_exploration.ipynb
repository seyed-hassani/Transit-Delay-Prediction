{
 "cells": [
  {
   "cell_type": "markdown",
   "id": "428bb55d",
   "metadata": {},
   "source": [
    "# 📊 Transit Delay Model Exploration\n",
    "This notebook loads the trained model and explores feature importance using SHAP."
   ]
  },
  {
   "cell_type": "code",
   "execution_count": null,
   "id": "2c44b851",
   "metadata": {},
   "outputs": [],
   "source": [
    "import pandas as pd\n",
    "import joblib\n",
    "import shap\n",
    "import matplotlib.pyplot as plt\n",
    "\n",
    "# Load dataset\n",
    "df = pd.read_csv(\"../data/transit_data.csv\")\n",
    "\n",
    "# Select features\n",
    "features = ['gps_speed', 'route_id', 'weather_code', 'hour']\n",
    "X = df[features]\n",
    "\n",
    "# Load model\n",
    "model = joblib.load(\"../models/model.pkl\")"
   ]
  },
  {
   "cell_type": "code",
   "execution_count": null,
   "id": "d6db487a",
   "metadata": {},
   "outputs": [],
   "source": [
    "# Create SHAP explainer and compute values\n",
    "explainer = shap.Explainer(model, X)\n",
    "shap_values = explainer(X)"
   ]
  },
  {
   "cell_type": "code",
   "execution_count": null,
   "id": "0745cade",
   "metadata": {},
   "outputs": [],
   "source": [
    "# Plot SHAP summary\n",
    "shap.summary_plot(shap_values, X)\n"
   ]
  }
 ],
 "metadata": {},
 "nbformat": 4,
 "nbformat_minor": 5
}
